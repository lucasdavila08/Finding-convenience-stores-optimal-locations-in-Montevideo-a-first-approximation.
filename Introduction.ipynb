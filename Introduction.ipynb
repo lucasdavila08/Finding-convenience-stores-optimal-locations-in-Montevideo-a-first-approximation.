{
 "cells": [
  {
   "cell_type": "markdown",
   "metadata": {},
   "source": [
    "# **Convencience Stores in Montevideo, Uruguay:**\n",
    "\n",
    "### What is a convenience store?\n",
    "\n",
    "It is an establishment with less than 400m2, schedule at least 18 hours and open 365 days a year. Its daily consumption catalog items centers in drinks, feeding, products of watertight, bazaar, etc.\n",
    "Location and product offerings of these stores are defined as the population density of the region, and usually have a 300m radius of consumption.\n",
    "The greatest concentration of convenience stores in Uruguay is given in the capital, Montevideo department, and more specifically in its central and coastal zone.\n",
    "\n",
    "### Background:\n",
    "\n",
    "According to official sources, the consumption trend through the convenience stores in Uruguay has experienced an increase in their preference of use, from 16% in 2017 to 27% in 2018. The same period shows that those who prefer to buy in supermarkets decreased their proportion from 78% to 64%.\n",
    "Uruguay, but more particularly Montevideo, is undergoing a paradigm shift in terms of daily consumption, and there are at least two reasons why this situation can be explained. First, Uruguay recently switched to the category of countries with \"high income\" to be increased its per capita GDP. Under this concept, local consumers now seek time savings and simplicity when making purchases. On the other hand, Uruguay has a zero growth rate of population and is experiencing growth in the number of households by the breakdown of family units. This leads to the uruguayans live increasingly in smaller spaces with fewer members cohabiting, which encourages frequent and light purchases against the monthly supply. Under this paradigm, a few big supermarket brands had launched their own convenience stores, according to the new market preferences.\n",
    "It should be noted that the main convenience stores in Montevideo are “Kinko”, “Devoto Express” y “Frog”, with a total billing of U$S7.7 millions in 2015 and a total of 24, 27 and 22 locals respectively.\n",
    "\n",
    "### Idea:\n",
    "\n",
    "Considering the new trend of consumption of the residents of Montevideo, this report aims to identify potential areas for installation of new convenience stores. The variables to handle with for this identification will be the density of population, purchasing power and criminality per district in the Montevideo department.\n",
    "The target audience is both those store owners who already have market share, as those potential investors in the field.\n",
    "\n",
    "Webography:\n",
    "\n",
    "http://www.gpa.uy/files.php/archivos-externos/8898/2019-02-12-informe-retail.pdf?dl=false\n",
    "\n",
    "https://es.wikipedia.org/wiki/Tienda_de_conveniencia\n",
    "\n",
    "https://www.elobservador.com.uy/nota/las-tiendas-de-conveniencia-arrasan-en-la-oferta-minorista-2016413500"
   ]
  },
  {
   "cell_type": "code",
   "execution_count": null,
   "metadata": {},
   "outputs": [],
   "source": []
  }
 ],
 "metadata": {
  "kernelspec": {
   "display_name": "Python 3",
   "language": "python",
   "name": "python3"
  },
  "language_info": {
   "codemirror_mode": {
    "name": "ipython",
    "version": 3
   },
   "file_extension": ".py",
   "mimetype": "text/x-python",
   "name": "python",
   "nbconvert_exporter": "python",
   "pygments_lexer": "ipython3",
   "version": "3.6.8"
  }
 },
 "nbformat": 4,
 "nbformat_minor": 2
}
